{
  "nbformat": 4,
  "nbformat_minor": 0,
  "metadata": {
    "colab": {
      "provenance": [],
      "authorship_tag": "ABX9TyPc+WyaTVdx+iBup1CLsU3H",
      "include_colab_link": true
    },
    "kernelspec": {
      "name": "python3",
      "display_name": "Python 3"
    },
    "language_info": {
      "name": "python"
    }
  },
  "cells": [
    {
      "cell_type": "markdown",
      "metadata": {
        "id": "view-in-github",
        "colab_type": "text"
      },
      "source": [
        "<a href=\"https://colab.research.google.com/github/WKhisa/Machine-Learning-using-PySpark/blob/main/Machine_Learning_using_PySpark_IPP.ipynb\" target=\"_parent\"><img src=\"https://colab.research.google.com/assets/colab-badge.svg\" alt=\"Open In Colab\"/></a>"
      ]
    },
    {
      "cell_type": "code",
      "execution_count": 1,
      "metadata": {
        "colab": {
          "base_uri": "https://localhost:8080/"
        },
        "id": "LMpwfK0GK_CC",
        "outputId": "1b7a3911-4857-47a2-c2f3-2a82f5cfa841"
      },
      "outputs": [
        {
          "output_type": "stream",
          "name": "stdout",
          "text": [
            "Collecting pyspark\n",
            "  Downloading pyspark-3.4.1.tar.gz (310.8 MB)\n",
            "\u001b[2K     \u001b[90m━━━━━━━━━━━━━━━━━━━━━━━━━━━━━━━━━━━━━━━\u001b[0m \u001b[32m310.8/310.8 MB\u001b[0m \u001b[31m2.1 MB/s\u001b[0m eta \u001b[36m0:00:00\u001b[0m\n",
            "\u001b[?25h  Preparing metadata (setup.py) ... \u001b[?25l\u001b[?25hdone\n",
            "Requirement already satisfied: py4j==0.10.9.7 in /usr/local/lib/python3.10/dist-packages (from pyspark) (0.10.9.7)\n",
            "Building wheels for collected packages: pyspark\n",
            "  Building wheel for pyspark (setup.py) ... \u001b[?25l\u001b[?25hdone\n",
            "  Created wheel for pyspark: filename=pyspark-3.4.1-py2.py3-none-any.whl size=311285387 sha256=ac001e60db545cb1d126a260a6a833048ab5c52840dc7579a6ee51d96b69b397\n",
            "  Stored in directory: /root/.cache/pip/wheels/0d/77/a3/ff2f74cc9ab41f8f594dabf0579c2a7c6de920d584206e0834\n",
            "Successfully built pyspark\n",
            "Installing collected packages: pyspark\n",
            "Successfully installed pyspark-3.4.1\n"
          ]
        }
      ],
      "source": [
        "#Install Pyspark\n",
        "!pip install pyspark"
      ]
    },
    {
      "cell_type": "code",
      "source": [
        "#load prerequisite libraries\n",
        "from pyspark.sql.session import SparkSession\n",
        "from pyspark.sql.functions import col\n",
        "from pyspark.ml.feature import MinMaxScaler, VectorAssembler"
      ],
      "metadata": {
        "id": "uuX7IUDCMbvW"
      },
      "execution_count": 2,
      "outputs": []
    },
    {
      "cell_type": "code",
      "source": [
        "#Create Spark session\n",
        "spark = SparkSession.builder.appName(\"telecomdata\").getOrCreate()"
      ],
      "metadata": {
        "id": "wYxIT5qbMn_b"
      },
      "execution_count": 6,
      "outputs": []
    },
    {
      "cell_type": "code",
      "source": [
        "# Download, upload and load dataset\n",
        "df = spark.read.csv('telecom_dataset.csv',header=True, inferSchema=True)\n",
        "df.show()"
      ],
      "metadata": {
        "colab": {
          "base_uri": "https://localhost:8080/"
        },
        "id": "1kIMWcTMM1XM",
        "outputId": "f6e9d4ac-9a32-4270-9705-985e698bbed5"
      },
      "execution_count": 12,
      "outputs": [
        {
          "output_type": "stream",
          "name": "stdout",
          "text": [
            "+----------+------+---+--------------+--------------+------------+-----+\n",
            "|CustomerID|Gender|Age|      Contract|MonthlyCharges|TotalCharges|Churn|\n",
            "+----------+------+---+--------------+--------------+------------+-----+\n",
            "|         1|Female| 25|Month-to-Month|          65.7|       156.5|   No|\n",
            "|         2|  Male| 37|      One Year|          89.0|      2356.8|   No|\n",
            "|         3|  Male| 52|      Two Year|         115.5|      5408.6|   No|\n",
            "|         4|Female| 30|Month-to-Month|          75.9|       129.4|  Yes|\n",
            "|         5|  Male| 45|      One Year|          98.2|      3142.0|   No|\n",
            "|         6|Female| 55|      Two Year|          99.9|      6541.5|   No|\n",
            "|         7|  Male| 32|Month-to-Month|          82.1|       267.7|  Yes|\n",
            "|         8|Female| 28|Month-to-Month|          61.5|       346.9|   No|\n",
            "|         9|  Male| 48|      One Year|         101.8|      5149.6|  Yes|\n",
            "|        10|Female| 60|      Two Year|         108.1|      6742.8|  Yes|\n",
            "|        11|  Male| 42|Month-to-Month|          78.9|       547.6|   No|\n",
            "|        12|Female| 35|      One Year|          94.7|      1950.2|   No|\n",
            "|        13|  Male| 41|      Two Year|          96.5|      4188.1|   No|\n",
            "|        14|  Male| 38|Month-to-Month|          79.1|       148.2|  Yes|\n",
            "|        15|Female| 50|      One Year|         105.5|      4759.1|  Yes|\n",
            "|        16|  Male| 47|      Two Year|         112.3|      5432.0|  Yes|\n",
            "|        17|Female| 26|Month-to-Month|          68.2|       289.1|   No|\n",
            "|        18|  Male| 33|Month-to-Month|          75.5|       462.5|  Yes|\n",
            "|        19|Female| 31|      One Year|          85.9|      1673.8|   No|\n",
            "|        20|  Male| 39|      Two Year|          97.1|      3992.4|   No|\n",
            "+----------+------+---+--------------+--------------+------------+-----+\n",
            "\n"
          ]
        }
      ]
    },
    {
      "cell_type": "code",
      "source": [
        "# Define the numerical columns\n",
        "numerical_columns = ['Age', 'MonthlyCharges', 'TotalCharges']\n",
        "\n",
        "# Convert string columns to numerical\n",
        "for column in numerical_columns:\n",
        "    df = df.withColumn(column, col(column).cast('double'))\n",
        "\n",
        "# Assemble the numerical columns into a vector column\n",
        "assembler = VectorAssembler(inputCols=numerical_columns, outputCol=\"features\")\n",
        "assembled_df = assembler.transform(df)\n",
        "\n",
        "# Create a MinMaxScaler object\n",
        "scaler = MinMaxScaler(inputCol=\"features\", outputCol=\"scaled_features\")\n",
        "\n",
        "# Fit the scaler to the data\n",
        "scaler_model = scaler.fit(assembled_df)\n",
        "\n",
        "# Transform the data\n",
        "scaled_df = scaler_model.transform(assembled_df)\n",
        "\n",
        "# View the scaled data\n",
        "scaled_df.show()"
      ],
      "metadata": {
        "colab": {
          "base_uri": "https://localhost:8080/"
        },
        "id": "b3kriORNO9Rs",
        "outputId": "9021c382-bddf-48bf-8515-cd1d153e081f"
      },
      "execution_count": 13,
      "outputs": [
        {
          "output_type": "stream",
          "name": "stdout",
          "text": [
            "+----------+------+----+--------------+--------------+------------+-----+-------------------+--------------------+\n",
            "|CustomerID|Gender| Age|      Contract|MonthlyCharges|TotalCharges|Churn|           features|     scaled_features|\n",
            "+----------+------+----+--------------+--------------+------------+-----+-------------------+--------------------+\n",
            "|         1|Female|25.0|Month-to-Month|          65.7|       156.5|   No|  [25.0,65.7,156.5]|[0.0,0.0777777777...|\n",
            "|         2|  Male|37.0|      One Year|          89.0|      2356.8|   No| [37.0,89.0,2356.8]|[0.34285714285714...|\n",
            "|         3|  Male|52.0|      Two Year|         115.5|      5408.6|   No|[52.0,115.5,5408.6]|[0.77142857142857...|\n",
            "|         4|Female|30.0|Month-to-Month|          75.9|       129.4|  Yes|  [30.0,75.9,129.4]|[0.14285714285714...|\n",
            "|         5|  Male|45.0|      One Year|          98.2|      3142.0|   No| [45.0,98.2,3142.0]|[0.57142857142857...|\n",
            "|         6|Female|55.0|      Two Year|          99.9|      6541.5|   No| [55.0,99.9,6541.5]|[0.85714285714285...|\n",
            "|         7|  Male|32.0|Month-to-Month|          82.1|       267.7|  Yes|  [32.0,82.1,267.7]|[0.19999999999999...|\n",
            "|         8|Female|28.0|Month-to-Month|          61.5|       346.9|   No|  [28.0,61.5,346.9]|[0.08571428571428...|\n",
            "|         9|  Male|48.0|      One Year|         101.8|      5149.6|  Yes|[48.0,101.8,5149.6]|[0.65714285714285...|\n",
            "|        10|Female|60.0|      Two Year|         108.1|      6742.8|  Yes|[60.0,108.1,6742.8]|[1.0,0.8629629629...|\n",
            "|        11|  Male|42.0|Month-to-Month|          78.9|       547.6|   No|  [42.0,78.9,547.6]|[0.48571428571428...|\n",
            "|        12|Female|35.0|      One Year|          94.7|      1950.2|   No| [35.0,94.7,1950.2]|[0.28571428571428...|\n",
            "|        13|  Male|41.0|      Two Year|          96.5|      4188.1|   No| [41.0,96.5,4188.1]|[0.45714285714285...|\n",
            "|        14|  Male|38.0|Month-to-Month|          79.1|       148.2|  Yes|  [38.0,79.1,148.2]|[0.37142857142857...|\n",
            "|        15|Female|50.0|      One Year|         105.5|      4759.1|  Yes|[50.0,105.5,4759.1]|[0.71428571428571...|\n",
            "|        16|  Male|47.0|      Two Year|         112.3|      5432.0|  Yes|[47.0,112.3,5432.0]|[0.62857142857142...|\n",
            "|        17|Female|26.0|Month-to-Month|          68.2|       289.1|   No|  [26.0,68.2,289.1]|[0.02857142857142...|\n",
            "|        18|  Male|33.0|Month-to-Month|          75.5|       462.5|  Yes|  [33.0,75.5,462.5]|[0.22857142857142...|\n",
            "|        19|Female|31.0|      One Year|          85.9|      1673.8|   No| [31.0,85.9,1673.8]|[0.17142857142857...|\n",
            "|        20|  Male|39.0|      Two Year|          97.1|      3992.4|   No| [39.0,97.1,3992.4]|[0.39999999999999...|\n",
            "+----------+------+----+--------------+--------------+------------+-----+-------------------+--------------------+\n",
            "\n"
          ]
        }
      ]
    },
    {
      "cell_type": "code",
      "source": [],
      "metadata": {
        "id": "bfKim4vHPZls"
      },
      "execution_count": null,
      "outputs": []
    }
  ]
}